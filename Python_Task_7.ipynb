{
 "cells": [
  {
   "cell_type": "markdown",
   "metadata": {},
   "source": [
    "Python Task 7"
   ]
  },
  {
   "cell_type": "code",
   "execution_count": 9,
   "metadata": {},
   "outputs": [
    {
     "name": "stdout",
     "output_type": "stream",
     "text": [
      "Q:  10\n"
     ]
    }
   ],
   "source": [
    "#1\n",
    "import math\n",
    "\n",
    "def calc(d, c = 50, h = 30):\n",
    "    q = int(math.sqrt(2*c*d/h))\n",
    "    print (\"Q: \", q)\n",
    "    \n",
    "calc(d = 20, c= 10, h = 4)"
   ]
  },
  {
   "cell_type": "code",
   "execution_count": 23,
   "metadata": {},
   "outputs": [
    {
     "name": "stdout",
     "output_type": "stream",
     "text": [
      "Shape area =  10\n",
      "Sqaure area =  100\n"
     ]
    }
   ],
   "source": [
    "#2\n",
    "class shape():\n",
    "    def area(self, ar = 0):\n",
    "        self.ar = ar\n",
    "        print(\"Shape area = \", self.ar)\n",
    "        \n",
    "class sqaure(shape):\n",
    "    def __init__(self,length = 0):\n",
    "        self.length = length\n",
    "    \n",
    "    def area(self):\n",
    "        print(\"Sqaure area = \", self.length**2)\n",
    "        \n",
    "a = shape()\n",
    "a.area(10)\n",
    "b = sqaure(10)\n",
    "b.area()\n",
    "        "
   ]
  },
  {
   "cell_type": "code",
   "execution_count": 26,
   "metadata": {},
   "outputs": [
    {
     "name": "stdout",
     "output_type": "stream",
     "text": [
      "Result array:  [[-10, 2, 8], [-7, -3, 10]]\n"
     ]
    }
   ],
   "source": [
    "class zero():\n",
    "    def check_zero(self, lst):\n",
    "        self.lst = lst\n",
    "        length = len(self.lst)\n",
    "        res = []\n",
    "        for i in range(length):\n",
    "            d = {}\n",
    "            ans = -self.lst[i]\n",
    "            for j in range(i+1, length):\n",
    "                if self.lst[j] in d:\n",
    "                    res.append([self.lst[i],-(self.lst[i]+self.lst[j]),self.lst[j]])\n",
    "                else:\n",
    "                    d[ans-self.lst[j]] = self.lst[j]\n",
    "            \n",
    "        print(\"Result array: \", res)\n",
    "        \n",
    "a = zero()\n",
    "a.check_zero([-25,-10,-7,-3,2,4,8,10])"
   ]
  },
  {
   "cell_type": "markdown",
   "metadata": {},
   "source": [
    "4\n",
    "\n",
    "a) Output is 1 2\n",
    "b) Output is 3 1\n",
    "c) Output is 30 (multiply of class B is called)"
   ]
  },
  {
   "cell_type": "code",
   "execution_count": 37,
   "metadata": {},
   "outputs": [
    {
     "name": "stdout",
     "output_type": "stream",
     "text": [
      "4 30\n",
      "2 45\n",
      "170  minute\n"
     ]
    }
   ],
   "source": [
    "#5\n",
    "class Time():\n",
    "    def __init__ (self, hour = 0, minute = 0):\n",
    "        self.hour = hour\n",
    "        self.min = minute\n",
    "        \n",
    "def addTime(t1, t2):\n",
    "    if t1.min + t2.min >= 60:\n",
    "        print (t1.hour+t2.hour+1, t1.min+t2.min-60)\n",
    "    else:\n",
    "        print (t1.hour+t2.hour, t1.min+t2.min)\n",
    "        \n",
    "def displayTime(t1):\n",
    "    print(t1.hour*60+t1.min, \" minute\")\n",
    "    \n",
    "t1 = Time(2, 50)\n",
    "t2 = Time (1, 40)\n",
    "t3 = Time(1, 5)\n",
    "addTime(t1, t2)\n",
    "addTime(t2, t3)\n",
    "displayTime(t1)"
   ]
  },
  {
   "cell_type": "code",
   "execution_count": 46,
   "metadata": {},
   "outputs": [
    {
     "name": "stdout",
     "output_type": "stream",
     "text": [
      "You are young\n",
      "You are a teenager\n",
      "You are old\n",
      "Age is not valid\n",
      "You are young\n"
     ]
    }
   ],
   "source": [
    "#6\n",
    "class Person():\n",
    "    def __init__(self, num):\n",
    "        self.num = num\n",
    "        if self.num < 0:\n",
    "            print (\"Age is not valid\")\n",
    "            self.num = 0\n",
    "            \n",
    "        self.yearPasses()\n",
    "        self.amIOld()\n",
    "    \n",
    "    def yearPasses(self):\n",
    "        self.num += 1\n",
    "        \n",
    "    def amIOld(self):\n",
    "        if self.num <= 12:\n",
    "            print (\"You are young\")\n",
    "        elif self.num <= 19:\n",
    "            print (\"You are a teenager\")\n",
    "        else:\n",
    "            print (\"You are old\")\n",
    "            \n",
    "a = Person(4)\n",
    "b = Person(14)\n",
    "c = Person(20)\n",
    "d = Person(-3)"
   ]
  }
 ],
 "metadata": {
  "kernelspec": {
   "display_name": "Python 3",
   "language": "python",
   "name": "python3"
  },
  "language_info": {
   "codemirror_mode": {
    "name": "ipython",
    "version": 3
   },
   "file_extension": ".py",
   "mimetype": "text/x-python",
   "name": "python",
   "nbconvert_exporter": "python",
   "pygments_lexer": "ipython3",
   "version": "3.7.4"
  }
 },
 "nbformat": 4,
 "nbformat_minor": 2
}
