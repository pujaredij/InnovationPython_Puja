{
 "cells": [
  {
   "cell_type": "markdown",
   "metadata": {},
   "source": [
    "# Python 3"
   ]
  },
  {
   "cell_type": "code",
   "execution_count": 1,
   "metadata": {},
   "outputs": [],
   "source": [
    "#1\n",
    "a = [1, 'abc', 2+3j, 56.2,4,6,8,9,3,0]"
   ]
  },
  {
   "cell_type": "code",
   "execution_count": 7,
   "metadata": {},
   "outputs": [
    {
     "data": {
      "text/plain": [
       "[5, 3, 1]"
      ]
     },
     "execution_count": 7,
     "metadata": {},
     "output_type": "execute_result"
    }
   ],
   "source": [
    "#2\n",
    "b = [1,2,3,4,5]\n",
    "\n",
    "#slicing\n",
    "b[2:4]\n",
    "b[::2]\n",
    "b[::-1]\n",
    "b[::-2]"
   ]
  },
  {
   "cell_type": "code",
   "execution_count": 8,
   "metadata": {},
   "outputs": [
    {
     "name": "stdout",
     "output_type": "stream",
     "text": [
      "Sum 15 Product 120\n"
     ]
    }
   ],
   "source": [
    "#3\n",
    "sum = 0\n",
    "prod = 1\n",
    "\n",
    "for x in b:\n",
    "    sum += x\n",
    "    prod *= x\n",
    "    \n",
    "print (\"Sum\", sum, \"Product\", prod)"
   ]
  },
  {
   "cell_type": "code",
   "execution_count": 11,
   "metadata": {},
   "outputs": [
    {
     "name": "stdout",
     "output_type": "stream",
     "text": [
      "Min 1 Max 5\n"
     ]
    }
   ],
   "source": [
    "#4\n",
    "max = min = b[0]\n",
    "\n",
    "for x in b:\n",
    "    if x < min:\n",
    "        min = x\n",
    "    elif x > max:\n",
    "        max = x\n",
    "\n",
    "print (\"Min\", min, \"Max\", max)"
   ]
  },
  {
   "cell_type": "code",
   "execution_count": 12,
   "metadata": {},
   "outputs": [
    {
     "name": "stdout",
     "output_type": "stream",
     "text": [
      "[1, 3, 5]\n"
     ]
    }
   ],
   "source": [
    "#5\n",
    "new_lst = []\n",
    "\n",
    "for x in b:\n",
    "    if x%2 != 0:\n",
    "        new_lst.append(x)\n",
    "\n",
    "print (new_lst)"
   ]
  },
  {
   "cell_type": "code",
   "execution_count": 14,
   "metadata": {},
   "outputs": [
    {
     "name": "stdout",
     "output_type": "stream",
     "text": [
      "[1, 4, 9, 16, 25, 625, 676, 729, 784, 841, 900]\n"
     ]
    }
   ],
   "source": [
    "#6\n",
    "sqr_lst = []\n",
    "\n",
    "for x in range(1,31):\n",
    "    if x <= 5 or x >=25:\n",
    "        sqr_lst.append(x**2)\n",
    "    \n",
    "print (sqr_lst)"
   ]
  },
  {
   "cell_type": "code",
   "execution_count": 17,
   "metadata": {},
   "outputs": [
    {
     "name": "stdout",
     "output_type": "stream",
     "text": [
      "[1, 3, 5, 7, 9, [2, 4, 6, 8]]\n"
     ]
    }
   ],
   "source": [
    "#7\n",
    "p = [1,3,5,7,9,10]\n",
    "q = [2,4,6,8]\n",
    "\n",
    "p[-1] = q\n",
    "print (p)"
   ]
  },
  {
   "cell_type": "code",
   "execution_count": 19,
   "metadata": {},
   "outputs": [
    {
     "name": "stdout",
     "output_type": "stream",
     "text": [
      "{1: 10, 2: 20, 3: 30, 4: 40}\n"
     ]
    }
   ],
   "source": [
    "#8\n",
    "a = {1:10, 2:20 }\n",
    "b = {3:30, 4:40}\n",
    "\n",
    "res = {**a, **b}\n",
    "print (res)"
   ]
  },
  {
   "cell_type": "code",
   "execution_count": 1,
   "metadata": {},
   "outputs": [
    {
     "name": "stdout",
     "output_type": "stream",
     "text": [
      "Enter a number: 1\n",
      "{1: 1}\n"
     ]
    }
   ],
   "source": [
    "#9\n",
    "inp = int(input(\"Enter a number: \"))\n",
    "dic = {}\n",
    "for x in range(1,inp+1):\n",
    "    dic[x] = x**2\n",
    "\n",
    "print (dic)"
   ]
  },
  {
   "cell_type": "code",
   "execution_count": 2,
   "metadata": {},
   "outputs": [
    {
     "name": "stdout",
     "output_type": "stream",
     "text": [
      "Enter the numbers seperated by commas: 2,3,4,5,6\n",
      "(<class 'list'>, ['2', '3', '4', '5', '6']) (<class 'list'>, ['2', '3', '4', '5', '6'])\n"
     ]
    }
   ],
   "source": [
    "#10\n",
    "inp = (list,input(\"Enter the numbers seperated by commas: \").split(\",\"))\n",
    "tup = tuple(inp)\n",
    "\n",
    "print (inp, tup)"
   ]
  },
  {
   "cell_type": "code",
   "execution_count": null,
   "metadata": {},
   "outputs": [],
   "source": [
    "#11, #12\n",
    "# Same as solutions to #1, #2\n"
   ]
  },
  {
   "cell_type": "code",
   "execution_count": 7,
   "metadata": {},
   "outputs": [
    {
     "name": "stdout",
     "output_type": "stream",
     "text": [
      "[1, 2, 3, 4]\n",
      "[600, 700]\n",
      "[100, 300, 500, 600, 800]\n",
      "[800, 700, 600, [1, 2, 3, 4, 5, [10, 20, 30, 40, 50], 6, 7, 8, 9], 500, 400, 300, 200, 100]\n",
      "10\n",
      "[]\n"
     ]
    }
   ],
   "source": [
    "#13\n",
    "x=[100,200,300,400,500,[1,2,3,4,5,[10,20,30,40,50],6,7,8,9],600,700,800]\n",
    "\n",
    "print (x[5][:4])\n",
    "print (x[6:8])\n",
    "print (x[::2])\n",
    "print (x[::-1])\n",
    "print(x[5][5][0])\n",
    "print (x[8:8])"
   ]
  },
  {
   "cell_type": "code",
   "execution_count": 9,
   "metadata": {},
   "outputs": [
    {
     "name": "stdout",
     "output_type": "stream",
     "text": [
      "[1, 2, 3, 4, 5, 6, 7, 8, 9, 10, 11, 12, 13, 14, 15, 16, 17, 18, 19, 20, 21, 22, 23, 24, 25, 26, 27, 28, 29, 30, 31, 32, 33, 34, 35, 36, 37, 38, 39, 40, 41, 42, 43, 44, 45, 46, 47, 48, 49, 50, 51, 52, 53, 54, 55, 56, 57, 58, 59, 60, 61, 62, 63, 64, 65, 66, 67, 68, 69, 70, 71, 72, 73, 74, 75, 76, 77, 78, 79, 80, 81, 82, 83, 84, 85, 86, 87, 88, 89, 90, 91, 92, 93, 94, 95, 96, 97, 98, 99, 100, 101, 102, 103, 104, 105, 106, 107, 108, 109, 110, 111, 112, 113, 114, 115, 116, 117, 118, 119, 120, 121, 122, 123, 124, 125, 126, 127, 128, 129, 130, 131, 132, 133, 134, 135, 136, 137, 138, 139, 140, 141, 142, 143, 144, 145, 146, 147, 148, 149, 150, 151, 152, 153, 154, 155, 156, 157, 158, 159, 160, 161, 162, 163, 164, 165, 166, 167, 168, 169, 170, 171, 172, 173, 174, 175, 176, 177, 178, 179, 180, 181, 182, 183, 184, 185, 186, 187, 188, 189, 190, 191, 192, 193, 194, 195, 196, 197, 198, 199, 200, 201, 202, 203, 204, 205, 206, 207, 208, 209, 210, 211, 212, 213, 214, 215, 216, 217, 218, 219, 220, 221, 222, 223, 224, 225, 226, 227, 228, 229, 230, 231, 232, 233, 234, 235, 236, 237, 238, 239, 240, 241, 242, 243, 244, 245, 246, 247, 248, 249, 250, 251, 252, 253, 254, 255, 256, 257, 258, 259, 260, 261, 262, 263, 264, 265, 266, 267, 268, 269, 270, 271, 272, 273, 274, 275, 276, 277, 278, 279, 280, 281, 282, 283, 284, 285, 286, 287, 288, 289, 290, 291, 292, 293, 294, 295, 296, 297, 298, 299, 300, 301, 302, 303, 304, 305, 306, 307, 308, 309, 310, 311, 312, 313, 314, 315, 316, 317, 318, 319, 320, 321, 322, 323, 324, 325, 326, 327, 328, 329, 330, 331, 332, 333, 334, 335, 336, 337, 338, 339, 340, 341, 342, 343, 344, 345, 346, 347, 348, 349, 350, 351, 352, 353, 354, 355, 356, 357, 358, 359, 360, 361, 362, 363, 364, 365, 366, 367, 368, 369, 370, 371, 372, 373, 374, 375, 376, 377, 378, 379, 380, 381, 382, 383, 384, 385, 386, 387, 388, 389, 390, 391, 392, 393, 394, 395, 396, 397, 398, 399, 400, 401, 402, 403, 404, 405, 406, 407, 408, 409, 410, 411, 412, 413, 414, 415, 416, 417, 418, 419, 420, 421, 422, 423, 424, 425, 426, 427, 428, 429, 430, 431, 432, 433, 434, 435, 436, 437, 438, 439, 440, 441, 442, 443, 444, 445, 446, 447, 448, 449, 450, 451, 452, 453, 454, 455, 456, 457, 458, 459, 460, 461, 462, 463, 464, 465, 466, 467, 468, 469, 470, 471, 472, 473, 474, 475, 476, 477, 478, 479, 480, 481, 482, 483, 484, 485, 486, 487, 488, 489, 490, 491, 492, 493, 494, 495, 496, 497, 498, 499, 500, 501, 502, 503, 504, 505, 506, 507, 508, 509, 510, 511, 512, 513, 514, 515, 516, 517, 518, 519, 520, 521, 522, 523, 524, 525, 526, 527, 528, 529, 530, 531, 532, 533, 534, 535, 536, 537, 538, 539, 540, 541, 542, 543, 544, 545, 546, 547, 548, 549, 550, 551, 552, 553, 554, 555, 556, 557, 558, 559, 560, 561, 562, 563, 564, 565, 566, 567, 568, 569, 570, 571, 572, 573, 574, 575, 576, 577, 578, 579, 580, 581, 582, 583, 584, 585, 586, 587, 588, 589, 590, 591, 592, 593, 594, 595, 596, 597, 598, 599, 600, 601, 602, 603, 604, 605, 606, 607, 608, 609, 610, 611, 612, 613, 614, 615, 616, 617, 618, 619, 620, 621, 622, 623, 624, 625, 626, 627, 628, 629, 630, 631, 632, 633, 634, 635, 636, 637, 638, 639, 640, 641, 642, 643, 644, 645, 646, 647, 648, 649, 650, 651, 652, 653, 654, 655, 656, 657, 658, 659, 660, 661, 662, 663, 664, 665, 666, 667, 668, 669, 670, 671, 672, 673, 674, 675, 676, 677, 678, 679, 680, 681, 682, 683, 684, 685, 686, 687, 688, 689, 690, 691, 692, 693, 694, 695, 696, 697, 698, 699, 700, 701, 702, 703, 704, 705, 706, 707, 708, 709, 710, 711, 712, 713, 714, 715, 716, 717, 718, 719, 720, 721, 722, 723, 724, 725, 726, 727, 728, 729, 730, 731, 732, 733, 734, 735, 736, 737, 738, 739, 740, 741, 742, 743, 744, 745, 746, 747, 748, 749, 750, 751, 752, 753, 754, 755, 756, 757, 758, 759, 760, 761, 762, 763, 764, 765, 766, 767, 768, 769, 770, 771, 772, 773, 774, 775, 776, 777, 778, 779, 780, 781, 782, 783, 784, 785, 786, 787, 788, 789, 790, 791, 792, 793, 794, 795, 796, 797, 798, 799, 800, 801, 802, 803, 804, 805, 806, 807, 808, 809, 810, 811, 812, 813, 814, 815, 816, 817, 818, 819, 820, 821, 822, 823, 824, 825, 826, 827, 828, 829, 830, 831, 832, 833, 834, 835, 836, 837, 838, 839, 840, 841, 842, 843, 844, 845, 846, 847, 848, 849, 850, 851, 852, 853, 854, 855, 856, 857, 858, 859, 860, 861, 862, 863, 864, 865, 866, 867, 868, 869, 870, 871, 872, 873, 874, 875, 876, 877, 878, 879, 880, 881, 882, 883, 884, 885, 886, 887, 888, 889, 890, 891, 892, 893, 894, 895, 896, 897, 898, 899, 900, 901, 902, 903, 904, 905, 906, 907, 908, 909, 910, 911, 912, 913, 914, 915, 916, 917, 918, 919, 920, 921, 922, 923, 924, 925, 926, 927, 928, 929, 930, 931, 932, 933, 934, 935, 936, 937, 938, 939, 940, 941, 942, 943, 944, 945, 946, 947, 948, 949, 950, 951, 952, 953, 954, 955, 956, 957, 958, 959, 960, 961, 962, 963, 964, 965, 966, 967, 968, 969, 970, 971, 972, 973, 974, 975, 976, 977, 978, 979, 980, 981, 982, 983, 984, 985, 986, 987, 988, 989, 990, 991, 992, 993, 994, 995, 996, 997, 998, 999, 1000]\n"
     ]
    }
   ],
   "source": [
    "#14\n",
    "lst = []\n",
    "for x in range(1,1001):\n",
    "    lst.append(x)\n",
    "\n",
    "print (lst)"
   ]
  },
  {
   "cell_type": "markdown",
   "metadata": {},
   "source": [
    "##### 15\n",
    "Tuples are immutable while lists are"
   ]
  },
  {
   "cell_type": "code",
   "execution_count": 10,
   "metadata": {},
   "outputs": [
    {
     "name": "stdout",
     "output_type": "stream",
     "text": [
      "[6, 12, 18, 24, 30, 36, 42, 48, 54, 60, 66, 72, 78, 84, 90, 96]\n"
     ]
    }
   ],
   "source": [
    "lst_6 = []\n",
    "\n",
    "for x in range(1, 100):\n",
    "    if x % 6 == 0:\n",
    "        lst_6.append(x)\n",
    "    \n",
    "print (lst_6)"
   ]
  },
  {
   "cell_type": "code",
   "execution_count": 14,
   "metadata": {},
   "outputs": [
    {
     "name": "stdout",
     "output_type": "stream",
     "text": [
      "sretcarahc\n",
      "e 2\n",
      "a 5\n",
      "a 7\n"
     ]
    }
   ],
   "source": [
    "#17\n",
    "lst_vowel = ['a', 'e', 'i', 'o', 'u']\n",
    "string = \"characters\"\n",
    "str_rev = string[::-1]\n",
    "\n",
    "print (str_rev)\n",
    "\n",
    "for i in range(len(str_rev)):\n",
    "    if str_rev[i] in lst_vowel:\n",
    "        print (str_rev[i], i)\n",
    "        \n"
   ]
  },
  {
   "cell_type": "code",
   "execution_count": 15,
   "metadata": {},
   "outputs": [
    {
     "name": "stdout",
     "output_type": "stream",
     "text": [
      "my\n",
      "name\n",
      "is\n"
     ]
    }
   ],
   "source": [
    "#18\n",
    "string = \"hello my name is abcde\"\n",
    "words = string.split(\" \")\n",
    "\n",
    "for word in words:\n",
    "    if len(word)%2 == 0:\n",
    "        print (word)"
   ]
  },
  {
   "cell_type": "code",
   "execution_count": 17,
   "metadata": {},
   "outputs": [
    {
     "name": "stdout",
     "output_type": "stream",
     "text": [
      "[[5, 3], [6, 2], [7, 1], [-1, 9]]\n"
     ]
    }
   ],
   "source": [
    "#19\n",
    "target = 8\n",
    "x = [1,2,3,4,5,6,7,8,9,-1]\n",
    "dic = {}\n",
    "res = []\n",
    "\n",
    "for i in x:\n",
    "    if target - i in dic:\n",
    "        res.append([i, target-i])\n",
    "    else:\n",
    "        dic[i] = target - i\n",
    "\n",
    "print (res)"
   ]
  },
  {
   "cell_type": "code",
   "execution_count": 21,
   "metadata": {},
   "outputs": [
    {
     "name": "stdout",
     "output_type": "stream",
     "text": [
      "Enter a number between 1-50: 1\n",
      "Enter a number between 1-50: 3\n",
      "Enter a number between 1-50: 5\n",
      "Enter a number between 1-50: 7\n",
      "Enter a number between 1-50: 9\n",
      "Enter a number between 1-50: 1\n",
      "Enter an even number. Odd list if full\n",
      "Enter a number between 1-50: 2\n",
      "Enter a number between 1-50: 1\n",
      "Enter an even number. Odd list if full\n",
      "Enter a number between 1-50: 4\n",
      "Enter a number between 1-50: 6\n",
      "Enter a number between 1-50: 8\n",
      "Enter a number between 1-50: 8\n",
      "28\n"
     ]
    }
   ],
   "source": [
    "#20\n",
    "odd_lst = []\n",
    "even_lst = []\n",
    "\n",
    "while True: \n",
    "    if len(even_lst) >= 5 and len(odd_lst) >= 5:\n",
    "        break\n",
    "        \n",
    "    x = int(input(\"Enter a number between 1-50: \"))\n",
    "       \n",
    "    if x%2 == 0:\n",
    "        if len(even_lst) >= 5:\n",
    "            print (\"Enter an odd number. Even list is full\")\n",
    "        else:\n",
    "            even_lst.append(x)\n",
    "            \n",
    "    else:\n",
    "        if len(odd_lst) >= 5:\n",
    "            print (\"Enter an even number. Odd list if full\")\n",
    "        else:\n",
    "            odd_lst.append(x)\n",
    "            \n",
    "odd_sum, even_sum = 0, 0\n",
    "for i in odd_lst:\n",
    "    odd_sum += i\n",
    "\n",
    "for i in even_lst:\n",
    "    even_sum += i\n",
    "\n",
    "if odd_sum >= even_sum:\n",
    "    print (odd_sum)\n",
    "else:\n",
    "    print (even_sum)"
   ]
  },
  {
   "cell_type": "code",
   "execution_count": 29,
   "metadata": {},
   "outputs": [
    {
     "name": "stdout",
     "output_type": "stream",
     "text": [
      "{'a': 5, 'b': 5, 'c': 2}\n"
     ]
    }
   ],
   "source": [
    "#21\n",
    "d = {}\n",
    "s = \"12abcbacbaba344ab\"\n",
    "res = \"\"\n",
    "\n",
    "for char in s:\n",
    "    if char.isalpha():\n",
    "        if char in d:\n",
    "            val = d[char]\n",
    "            d[char] = val+1\n",
    "        else:\n",
    "            d[char] = 1\n",
    "\n",
    "print (d)"
   ]
  },
  {
   "cell_type": "code",
   "execution_count": 30,
   "metadata": {},
   "outputs": [
    {
     "name": "stdout",
     "output_type": "stream",
     "text": [
      "(2, 4, 6, 8, 10)\n"
     ]
    }
   ],
   "source": [
    "tup = (1,2,3,4,5,6,7,8,9,10)\n",
    "lst = []\n",
    "\n",
    "for x in tup:\n",
    "    if x%2 == 0:\n",
    "        lst.append(x)\n",
    "        \n",
    "tup_even = tuple(lst)\n",
    "print (tup_even)"
   ]
  }
 ],
 "metadata": {
  "kernelspec": {
   "display_name": "Python 3",
   "language": "python",
   "name": "python3"
  },
  "language_info": {
   "codemirror_mode": {
    "name": "ipython",
    "version": 3
   },
   "file_extension": ".py",
   "mimetype": "text/x-python",
   "name": "python",
   "nbconvert_exporter": "python",
   "pygments_lexer": "ipython3",
   "version": "3.7.4"
  }
 },
 "nbformat": 4,
 "nbformat_minor": 2
}
