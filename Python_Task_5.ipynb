{
 "cells": [
  {
   "cell_type": "markdown",
   "metadata": {},
   "source": [
    "# Python Task 5"
   ]
  },
  {
   "cell_type": "code",
   "execution_count": 3,
   "metadata": {},
   "outputs": [
    {
     "name": "stdout",
     "output_type": "stream",
     "text": [
      "Hello\n"
     ]
    }
   ],
   "source": [
    "#1\n",
    "\n",
    "try:\n",
    "    print (\"Hello\")\n",
    "except SyntaxError:\n",
    "    print (\"Syntax error\")"
   ]
  },
  {
   "cell_type": "code",
   "execution_count": 4,
   "metadata": {},
   "outputs": [
    {
     "ename": "SyntaxError",
     "evalue": "'break' outside loop (<ipython-input-4-0af9d5a05a99>, line 16)",
     "output_type": "error",
     "traceback": [
      "\u001b[1;36m  File \u001b[1;32m\"<ipython-input-4-0af9d5a05a99>\"\u001b[1;36m, line \u001b[1;32m16\u001b[0m\n\u001b[1;33m    print(\"The file name is incorrect\")\u001b[0m\n\u001b[1;37m           ^\u001b[0m\n\u001b[1;31mSyntaxError\u001b[0m\u001b[1;31m:\u001b[0m 'break' outside loop\n"
     ]
    }
   ],
   "source": [
    "#2\n",
    "\n",
    "from sys import argv\n",
    "\n",
    "pgmname = argv\n",
    "fname = argv\n",
    "\n",
    "try:\n",
    "    file = open(fname, 'r')\n",
    "    content = file.read()\n",
    "    print(content)\n",
    "    file.close()\n",
    "    break\n",
    "    \n",
    "except:\n",
    "    print(\"The file name is incorrect\")"
   ]
  },
  {
   "cell_type": "code",
   "execution_count": 6,
   "metadata": {},
   "outputs": [
    {
     "name": "stdout",
     "output_type": "stream",
     "text": [
      "Enter a number: 45678\n",
      "PLease length is too hort/long!!! Please provide only four digits.\n"
     ]
    }
   ],
   "source": [
    "#3\n",
    "try:\n",
    "    x = int(input(\"Enter a number: \"))\n",
    "    length = len(str(x))\n",
    "    if length== 4:\n",
    "        print (x)\n",
    "    else:\n",
    "        raise Exception\n",
    "    \n",
    "except:\n",
    "    print (\"PLease length is too short/long!!! Please provide only four digits.\")"
   ]
  },
  {
   "cell_type": "code",
   "execution_count": 8,
   "metadata": {},
   "outputs": [
    {
     "name": "stdout",
     "output_type": "stream",
     "text": [
      "Enter the username: Puja\n",
      "Enter the password: pwd\n",
      "Please retype the password: pwd\n",
      "Password is correct\n"
     ]
    }
   ],
   "source": [
    "#4\n",
    "user = str(input(\"Enter the username: \"))\n",
    "pswd = str(input(\"Enter the password: \"))\n",
    "count = 0\n",
    "while count <= 3:\n",
    "    try:\n",
    "        pswd2 = str(input(\"Please retype the password: \"))\n",
    "        if pswd2 == pswd:\n",
    "            print (\"Password is correct\")\n",
    "            break\n",
    "        else:\n",
    "            count += 1\n",
    "            raise Exception\n",
    "    \n",
    "    except:\n",
    "        print (\"You have \", 3-count, \" attempts left.\")\n"
   ]
  },
  {
   "cell_type": "code",
   "execution_count": 9,
   "metadata": {},
   "outputs": [],
   "source": [
    "#5\n",
    "#Completed"
   ]
  },
  {
   "cell_type": "code",
   "execution_count": 10,
   "metadata": {},
   "outputs": [
    {
     "name": "stdout",
     "output_type": "stream",
     "text": [
      "Where you need to return the data string\n"
     ]
    }
   ],
   "source": [
    "#6\n",
    "file = open(\"doc.txt\", 'r')\n",
    "for i in file:\n",
    "    i = i.rstrip()\n",
    "    if len(i) %2 == 0:\n",
    "        print (i)"
   ]
  }
 ],
 "metadata": {
  "kernelspec": {
   "display_name": "Python 3",
   "language": "python",
   "name": "python3"
  },
  "language_info": {
   "codemirror_mode": {
    "name": "ipython",
    "version": 3
   },
   "file_extension": ".py",
   "mimetype": "text/x-python",
   "name": "python",
   "nbconvert_exporter": "python",
   "pygments_lexer": "ipython3",
   "version": "3.7.4"
  }
 },
 "nbformat": 4,
 "nbformat_minor": 2
}
