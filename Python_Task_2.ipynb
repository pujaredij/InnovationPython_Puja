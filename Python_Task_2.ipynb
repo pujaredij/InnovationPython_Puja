{
 "cells": [
  {
   "cell_type": "markdown",
   "metadata": {},
   "source": [
    "# Task 2"
   ]
  },
  {
   "cell_type": "code",
   "execution_count": 2,
   "metadata": {},
   "outputs": [
    {
     "name": "stdout",
     "output_type": "stream",
     "text": [
      "Enter a number: 30\n",
      "Consultadd Python Training\n"
     ]
    }
   ],
   "source": [
    "#1\n",
    "x = int(input(\"Enter a number: \"))\n",
    "if x % 15 == 0:\n",
    "    print (\"Consultadd Python Training\")\n",
    "elif x % 3 == 0:\n",
    "    print (\"Consultadd\")\n",
    "elif x % 5 == 0:\n",
    "    print (\"c\")"
   ]
  },
  {
   "cell_type": "code",
   "execution_count": 7,
   "metadata": {},
   "outputs": [
    {
     "name": "stdout",
     "output_type": "stream",
     "text": [
      "Enter a number from 1-5: 5\n",
      "Enter 4 numbers: 1 2 3 -10\n",
      "NEGATIVE\n"
     ]
    }
   ],
   "source": [
    "#2\n",
    "a = int(input(\"Enter a number from 1-5: \"))\n",
    "res = 0\n",
    "if a in range(1,5):\n",
    "    x,y = [int(x) for x in input(\"Enter two numbers: \").split()]\n",
    "    if a == 1:\n",
    "        res = x+y\n",
    "    elif a == 2:\n",
    "        res = (x-y)\n",
    "    elif a == 3:\n",
    "        res = (x/y)\n",
    "    else:\n",
    "        res = (x*y)\n",
    "    if res < 0:\n",
    "        print (\"NEGATIVE\")\n",
    "elif a == 5:\n",
    "    w,x,y,z = [int(x) for x in input(\"Enter 4 numbers: \").split()]\n",
    "    res = (w+x+y+z)/4\n",
    "    if res < 0:\n",
    "        print (\"NEGATIVE\")\n"
   ]
  },
  {
   "cell_type": "code",
   "execution_count": 8,
   "metadata": {},
   "outputs": [
    {
     "name": "stdout",
     "output_type": "stream",
     "text": [
      "avg= 20.0\n",
      "Average is just higher than a\n"
     ]
    }
   ],
   "source": [
    "#3\n",
    "a, b, c = 10, 20, 30\n",
    "avg = (a+b+c)/3\n",
    "print (\"avg=\", avg)\n",
    "\n",
    "if avg > a and avg > b and avg > c:\n",
    "    print (\"Average is higher than a,b,c\")\n",
    "elif avg > a and avg > b:\n",
    "    print (\"Average is higher than a,b,c\")\n",
    "elif avg > a and avg > c:\n",
    "    print (\"Average is higher than a,c\")\n",
    "elif avg > b and avg > c:\n",
    "    print (\"Average is higher than b,c\")\n",
    "elif avg > a:\n",
    "    print (\"Average is just higher than a\")\n",
    "elif avg > b:\n",
    "    print (\"Average is just higher than b\")\n",
    "elif avg > c:\n",
    "    print (\"Average is higher than c\")"
   ]
  },
  {
   "cell_type": "code",
   "execution_count": 9,
   "metadata": {},
   "outputs": [
    {
     "name": "stdout",
     "output_type": "stream",
     "text": [
      "Enter the number: 10\n",
      "Good Going\n",
      "Enter the number: -5\n",
      "It's Over\n"
     ]
    }
   ],
   "source": [
    "#4\n",
    "\n",
    "while True:\n",
    "    x = int(input(\"Enter the number: \"))\n",
    "    if x < 0:\n",
    "        print (\"It's Over\")\n",
    "        break\n",
    "    elif x > 0:\n",
    "        print (\"Good Going\")\n",
    "        continue"
   ]
  },
  {
   "cell_type": "code",
   "execution_count": 12,
   "metadata": {},
   "outputs": [
    {
     "name": "stdout",
     "output_type": "stream",
     "text": [
      "[2002, 2009, 2016, 2023, 2037, 2044, 2051, 2058, 2072, 2079, 2086, 2093, 2107, 2114, 2121, 2128, 2142, 2149, 2156, 2163, 2177, 2184, 2191, 2198, 2212, 2219, 2226, 2233, 2247, 2254, 2261, 2268, 2282, 2289, 2296, 2303, 2317, 2324, 2331, 2338, 2352, 2359, 2366, 2373, 2387, 2394, 2401, 2408, 2422, 2429, 2436, 2443, 2457, 2464, 2471, 2478, 2492, 2499, 2506, 2513, 2527, 2534, 2541, 2548, 2562, 2569, 2576, 2583, 2597, 2604, 2611, 2618, 2632, 2639, 2646, 2653, 2667, 2674, 2681, 2688, 2702, 2709, 2716, 2723, 2737, 2744, 2751, 2758, 2772, 2779, 2786, 2793, 2807, 2814, 2821, 2828, 2842, 2849, 2856, 2863, 2877, 2884, 2891, 2898, 2912, 2919, 2926, 2933, 2947, 2954, 2961, 2968, 2982, 2989, 2996, 3003, 3017, 3024, 3031, 3038, 3052, 3059, 3066, 3073, 3087, 3094, 3101, 3108, 3122, 3129, 3136, 3143, 3157, 3164, 3171, 3178, 3192, 3199]\n"
     ]
    }
   ],
   "source": [
    "#5\n",
    "\n",
    "res = []\n",
    "for x in range (2000, 3200, 1):\n",
    "    if x % 7 == 0 and x % 35 != 0:\n",
    "        res.append(x)\n",
    "\n",
    "print (res)"
   ]
  },
  {
   "cell_type": "markdown",
   "metadata": {},
   "source": [
    "6.a\n",
    "error will be returned as integer can't be iterated\n",
    "\n",
    "6.b\n",
    "0\n",
    "1\n",
    "2\n",
    "3\n",
    "\n",
    "6.c\n",
    "0\n",
    "1\n",
    "2\n",
    "3\n",
    "4"
   ]
  },
  {
   "cell_type": "code",
   "execution_count": 4,
   "metadata": {},
   "outputs": [
    {
     "name": "stdout",
     "output_type": "stream",
     "text": [
      "0\n",
      "1\n",
      "2\n",
      "4\n",
      "5\n"
     ]
    }
   ],
   "source": [
    "#7\n",
    "num = 0\n",
    "\n",
    "while num < 6:\n",
    "    print (num)\n",
    "    num += 1\n",
    "    if num == 3:\n",
    "        num += 1\n",
    "        continue\n",
    "    "
   ]
  },
  {
   "cell_type": "code",
   "execution_count": 5,
   "metadata": {},
   "outputs": [
    {
     "name": "stdout",
     "output_type": "stream",
     "text": [
      "Enter a string: consul12\n",
      "Letters  6\n",
      "Digits  2\n"
     ]
    }
   ],
   "source": [
    "#8\n",
    "s = str(input(\"Enter a string: \"))\n",
    "num = 0\n",
    "char = 0\n",
    "for c in s:\n",
    "    if c.isalpha():\n",
    "        char += 1\n",
    "    elif c.isnumeric():\n",
    "        num += 1\n",
    "\n",
    "print (\"Letters \", char)\n",
    "print (\"Digits \", num)"
   ]
  },
  {
   "cell_type": "code",
   "execution_count": 6,
   "metadata": {},
   "outputs": [
    {
     "name": "stdout",
     "output_type": "stream",
     "text": [
      "Guess the lucky number between 0-10: 0\n",
      "Guess the lucky number between 0-10: 8\n",
      "Guess the lucky number between 0-10: 9\n"
     ]
    }
   ],
   "source": [
    "#9.a\n",
    "luckyNumber = 9\n",
    "x = -1\n",
    "\n",
    "while True:\n",
    "    x = int(input(\"Guess the lucky number: \"))\n",
    "    if x == luckyNumber:\n",
    "        break"
   ]
  },
  {
   "cell_type": "code",
   "execution_count": 8,
   "metadata": {},
   "outputs": [
    {
     "name": "stdout",
     "output_type": "stream",
     "text": [
      "Do you want to continue (yes/no): yes\n",
      "Guess the lucky number: 8\n",
      "Do you want to continue (yes/no): yes\n",
      "Guess the lucky number: 9\n"
     ]
    }
   ],
   "source": [
    "#9.b\n",
    "luckyNumber = 9\n",
    "x = -1\n",
    "c = \"yes\"\n",
    "\n",
    "while True:\n",
    "    c = str(input(\"Do you want to continue (yes/no): \"))\n",
    "    if c == \"no\":\n",
    "        break\n",
    "    x = int(input(\"Guess the lucky number: \"))\n",
    "    if x == luckyNumber:\n",
    "        break"
   ]
  },
  {
   "cell_type": "code",
   "execution_count": 12,
   "metadata": {},
   "outputs": [
    {
     "name": "stdout",
     "output_type": "stream",
     "text": [
      "Type in the 1  number\n",
      "Number: 5\n",
      "Try again!\n",
      "Type in the 2  number\n",
      "Number: 3\n",
      "Try again!\n",
      "Type in the 3  number\n",
      "Number: 7\n",
      "Try again!\n",
      "Type in the 4  number\n",
      "Number: 9\n",
      "Good guess!\n",
      "Type in the 5  number\n",
      "Number: 9\n",
      "Good guess!\n"
     ]
    }
   ],
   "source": [
    "#10\n",
    "luckyNumber = 9\n",
    "counter = 1\n",
    "\n",
    "while  counter <= 5:\n",
    "    print (\"Type in the\", counter, \" number\")\n",
    "    x = int(input(\"Number: \"))\n",
    "    if x == luckyNumber:\n",
    "        print (\"Good guess!\")\n",
    "    else:\n",
    "        print (\"Try again!\")\n",
    "    counter += 1\n",
    "    "
   ]
  },
  {
   "cell_type": "code",
   "execution_count": 16,
   "metadata": {},
   "outputs": [
    {
     "name": "stdout",
     "output_type": "stream",
     "text": [
      "Type in the 1  number\n",
      "Number: 5\n",
      "Try again!\n",
      "Type in the 2  number\n",
      "Number: 4\n",
      "Try again!\n",
      "Type in the 3  number\n",
      "Number: 2\n",
      "Try again!\n",
      "Type in the 4  number\n",
      "Number: 4\n",
      "Try again!\n",
      "Type in the 5  number\n",
      "Number: 4\n",
      "Sorry but that was not very successful\n"
     ]
    }
   ],
   "source": [
    "#11\n",
    "luckyNumber = 9\n",
    "counter = 1\n",
    "x = -1\n",
    "\n",
    "while  counter <= 5:\n",
    "    print (\"Type in the\", counter, \" number\")\n",
    "    x = int(input(\"Number: \"))\n",
    "    if x == luckyNumber:\n",
    "        print (\"Good guess!\")\n",
    "        break\n",
    "    elif counter <5:\n",
    "        print (\"Try again!\")\n",
    "    else:\n",
    "        print (\"Sorry but that was not very successful\")\n",
    "    counter += 1"
   ]
  }
 ],
 "metadata": {
  "kernelspec": {
   "display_name": "Python 3",
   "language": "python",
   "name": "python3"
  },
  "language_info": {
   "codemirror_mode": {
    "name": "ipython",
    "version": 3
   },
   "file_extension": ".py",
   "mimetype": "text/x-python",
   "name": "python",
   "nbconvert_exporter": "python",
   "pygments_lexer": "ipython3",
   "version": "3.7.4"
  }
 },
 "nbformat": 4,
 "nbformat_minor": 2
}
