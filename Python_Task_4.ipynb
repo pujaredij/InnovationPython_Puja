{
 "cells": [
  {
   "cell_type": "markdown",
   "metadata": {},
   "source": [
    "# Task 4"
   ]
  },
  {
   "cell_type": "code",
   "execution_count": 1,
   "metadata": {},
   "outputs": [],
   "source": [
    "#1\n",
    "s = '1234abcd'\n",
    "res = s[::-1]"
   ]
  },
  {
   "cell_type": "code",
   "execution_count": 2,
   "metadata": {},
   "outputs": [
    {
     "name": "stdout",
     "output_type": "stream",
     "text": [
      "Enter a stringHello!! How are YOU?\n",
      "No. of Upper case characters:  5\n",
      "No. of Lower case Characters:  9\n"
     ]
    }
   ],
   "source": [
    "#2\n",
    "s = str(input(\"Enter a string: \"))\n",
    "isUpper = 0\n",
    "isLower = 0\n",
    "\n",
    "for char in s:\n",
    "    if char.isupper():\n",
    "        isUpper += 1\n",
    "    if char.islower():\n",
    "        isLower += 1\n",
    "\n",
    "print (\"No. of Upper case characters: \", isUpper)\n",
    "print (\"No. of Lower case Characters: \", isLower)"
   ]
  },
  {
   "cell_type": "code",
   "execution_count": 5,
   "metadata": {},
   "outputs": [
    {
     "name": "stdout",
     "output_type": "stream",
     "text": [
      "Enter a list of numbers: 1 3 5 6 8 9 1 3 5 6\n",
      "['1', ' ', '3', '5', '6', '8', '9']\n"
     ]
    }
   ],
   "source": [
    "#3\n",
    "lst = list(input(\"Enter a list of numbers: \"))\n",
    "\n",
    "d = {}\n",
    "\n",
    "for num in lst:\n",
    "    if num not in d:\n",
    "        d[num] = 1\n",
    "\n",
    "res = []\n",
    "for key, value in d.items():\n",
    "    res.append(key)\n",
    "\n",
    "print (res)"
   ]
  },
  {
   "cell_type": "code",
   "execution_count": 10,
   "metadata": {},
   "outputs": [
    {
     "name": "stdout",
     "output_type": "stream",
     "text": [
      "Enter a string separated with hyphen: df-wert-jhgf-wefg-bvcx\n",
      "bvcx-df-jhgf-wefg-wert\n"
     ]
    }
   ],
   "source": [
    "#4\n",
    "\n",
    "s = str(input(\"Enter a string separated with hyphen: \"))\n",
    "lst = s.split(\"-\")\n",
    "lst.sort()\n",
    "\n",
    "res = lst[0]\n",
    "\n",
    "for i in range(1, len(lst)):\n",
    "    res= res + \"-\" + lst[i]\n",
    "\n",
    "print (res)"
   ]
  },
  {
   "cell_type": "code",
   "execution_count": 13,
   "metadata": {},
   "outputs": [
    {
     "name": "stdout",
     "output_type": "stream",
     "text": [
      "Do you want to enter a string?(Y/N) :Y\n",
      "Enter string:Hello World\n",
      "Do you want to enter a string?(Y/N) :Y\n",
      "Enter string:Practice makes perfect\n",
      "Do you want to enter a string?(Y/N) :N\n",
      "HELLO WORLD\n",
      "PRACTICE MAKES PERFECT\n"
     ]
    }
   ],
   "source": [
    "#5\n",
    "\n",
    "ans = \"Y\"\n",
    "lst = []\n",
    "while ans == \"Y\":\n",
    "    ans = str(input(\"Do you want to enter a string?(Y/N) :\"))\n",
    "    if ans != \"Y\":\n",
    "        break\n",
    "    s = str(input(\"Enter string:\"))\n",
    "    lst.append(s.upper())\n",
    "\n",
    "for i in lst:\n",
    "    print (i)"
   ]
  },
  {
   "cell_type": "code",
   "execution_count": 27,
   "metadata": {},
   "outputs": [
    {
     "name": "stdout",
     "output_type": "stream",
     "text": [
      "30\n"
     ]
    }
   ],
   "source": [
    "#6\n",
    "def add(a: str, b: str):\n",
    "    add = int(a) + int(b)\n",
    "    print (add)\n",
    "\n",
    "add (\"10\", \"20\")"
   ]
  },
  {
   "cell_type": "code",
   "execution_count": 4,
   "metadata": {},
   "outputs": [
    {
     "name": "stdout",
     "output_type": "stream",
     "text": [
      "Enter the string 1: Hello\n",
      "Enter the string 2: How are you\n",
      "How are you\n"
     ]
    }
   ],
   "source": [
    "#7\n",
    "\n",
    "def strComp(str1: str, str2: str):\n",
    "    if len(str1) > len(str2):\n",
    "        print (str1)\n",
    "    elif len(str1) < len(str2):\n",
    "        print (str2)\n",
    "    else:\n",
    "        print (str1)\n",
    "        print (str2)\n",
    "    \n",
    "str1 = str(input(\"Enter the string 1: \"))\n",
    "str2 = str(input (\"Enter the string 2: \"))\n",
    "\n",
    "strComp (str1, str2)"
   ]
  },
  {
   "cell_type": "code",
   "execution_count": 5,
   "metadata": {},
   "outputs": [
    {
     "name": "stdout",
     "output_type": "stream",
     "text": [
      "(1, 4, 9, 16, 25, 36, 49, 64, 81, 100, 121, 144, 169, 196, 225, 256, 289, 324, 361, 400)\n"
     ]
    }
   ],
   "source": [
    "#8\n",
    "def printTuple():\n",
    "    lst = []\n",
    "    for i in range (1, 21):\n",
    "        lst.append(i ** 2)\n",
    "    tup = tuple(lst)\n",
    "    print (tup)\n",
    "\n",
    "printTuple()"
   ]
  },
  {
   "cell_type": "code",
   "execution_count": 11,
   "metadata": {},
   "outputs": [
    {
     "name": "stdout",
     "output_type": "stream",
     "text": [
      "Enter the limit: 6\n",
      "0 EVEN\n",
      "1 ODD\n",
      "2 EVEN\n",
      "3 ODD\n",
      "4 EVEN\n",
      "5 ODD\n",
      "6 EVEN\n"
     ]
    }
   ],
   "source": [
    "#9\n",
    "def showNumbers(limit: int):\n",
    "    for i in range(limit+1):\n",
    "        if i%2 == 0:\n",
    "            print (i, \"EVEN\")\n",
    "        else:\n",
    "            print (i, \"ODD\")  \n",
    "\n",
    "limit = int(input(\"Enter the limit: \"))\n",
    "showNumbers(limit)\n"
   ]
  },
  {
   "cell_type": "code",
   "execution_count": 15,
   "metadata": {},
   "outputs": [
    {
     "name": "stdout",
     "output_type": "stream",
     "text": [
      "[0, 2, 4, 6, 8, 10, 12, 14, 16, 18, 20]\n"
     ]
    }
   ],
   "source": [
    "#10\n",
    "def pgmFilter():\n",
    "    lst = list(filter((lambda x: x%2 == 0), range(21)))\n",
    "    print (lst)\n",
    "\n",
    "pgmFilter()\n",
    "        "
   ]
  },
  {
   "cell_type": "code",
   "execution_count": 18,
   "metadata": {},
   "outputs": [
    {
     "name": "stdout",
     "output_type": "stream",
     "text": [
      "[4, 16, 36, 64, 100]\n"
     ]
    }
   ],
   "source": [
    "#11\n",
    "\n",
    "def printSum():\n",
    "    lst1 = list(map(lambda x: x ** 2, (filter((lambda x: x%2 == 0), range(1,11)))))\n",
    "    print (lst1)\n",
    "                \n",
    "printSum()"
   ]
  },
  {
   "cell_type": "code",
   "execution_count": 19,
   "metadata": {},
   "outputs": [
    {
     "name": "stdout",
     "output_type": "stream",
     "text": [
      "Error dividing by zero\n"
     ]
    }
   ],
   "source": [
    "#12\n",
    "\n",
    "def tryCatch():\n",
    "    try:\n",
    "        x = 5 / 0\n",
    "    except:\n",
    "        print(\"Error dividing by zero\")\n",
    "    \n",
    "tryCatch()"
   ]
  },
  {
   "cell_type": "code",
   "execution_count": 25,
   "metadata": {},
   "outputs": [
    {
     "name": "stdout",
     "output_type": "stream",
     "text": [
      "[1, 2, 3, 4, 5, 6, 7, 8]\n"
     ]
    }
   ],
   "source": [
    "#13\n",
    "from functools import reduce\n",
    "\n",
    "l = [[1,2,3], [4,5], [6,7,8]]\n",
    "print(list(reduce (lambda x,y: x+y, l)))"
   ]
  },
  {
   "cell_type": "markdown",
   "metadata": {},
   "source": [
    "14\n",
    "i) The answer is 2 (finally return 2)\n",
    "ii) The function f is not defined. Hence there will be an error. If the function was defined, then the function will be executed followed by the 2 print statements"
   ]
  }
 ],
 "metadata": {
  "kernelspec": {
   "display_name": "Python 3",
   "language": "python",
   "name": "python3"
  },
  "language_info": {
   "codemirror_mode": {
    "name": "ipython",
    "version": 3
   },
   "file_extension": ".py",
   "mimetype": "text/x-python",
   "name": "python",
   "nbconvert_exporter": "python",
   "pygments_lexer": "ipython3",
   "version": "3.7.4"
  }
 },
 "nbformat": 4,
 "nbformat_minor": 2
}
