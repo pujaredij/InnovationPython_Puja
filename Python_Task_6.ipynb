{
 "cells": [
  {
   "cell_type": "markdown",
   "metadata": {},
   "source": [
    "# Python Task 6"
   ]
  },
  {
   "cell_type": "code",
   "execution_count": 2,
   "metadata": {},
   "outputs": [
    {
     "name": "stdout",
     "output_type": "stream",
     "text": [
      "Enter a number: 7\n",
      "Awesome!! Number divisible by 7 but NOT 3\n"
     ]
    }
   ],
   "source": [
    "#1\n",
    "def divi(num):\n",
    "    if num%7 == 0 and num%3 != 0:\n",
    "        return True\n",
    "    else:\n",
    "        return False\n",
    "    \n",
    "def check(func):\n",
    "    num = int(input(\"Enter a number: \"))\n",
    "    flag = func(num)\n",
    "    if (flag == True):\n",
    "        print(\"Awesome!! Number divisible by 7 but NOT 3\")\n",
    "    else:\n",
    "        print(\"Oops, number doesnt meet the requirements\")\n",
    "    \n",
    "check(divi)"
   ]
  },
  {
   "cell_type": "code",
   "execution_count": 3,
   "metadata": {},
   "outputs": [
    {
     "name": "stdout",
     "output_type": "stream",
     "text": [
      "[1, 4, 9, 16, 25, 36, 49, 64, 81, 0]\n"
     ]
    }
   ],
   "source": [
    "#2\n",
    "def multi(num):\n",
    "    return num*num\n",
    "\n",
    "arr = [1,2,3,4,5,6,7,8,9,0]\n",
    "res = map(multi, arr)\n",
    "print (list(res))"
   ]
  },
  {
   "cell_type": "code",
   "execution_count": 5,
   "metadata": {},
   "outputs": [
    {
     "name": "stdout",
     "output_type": "stream",
     "text": [
      "['H', 'H', 'O', 'W', 'A', 'Y']\n"
     ]
    }
   ],
   "source": [
    "#3\n",
    "string = \"Hello!! HOW Are You??\"\n",
    "u_letters = [letter for letter in string if letter.isupper()]\n",
    "print(u_letters)"
   ]
  },
  {
   "cell_type": "code",
   "execution_count": 7,
   "metadata": {},
   "outputs": [
    {
     "name": "stdout",
     "output_type": "stream",
     "text": [
      "{'Smit': 'CSE', 'Jaya': 'Networking', 'Rayyan': 'Operating System'}\n"
     ]
    }
   ],
   "source": [
    "#4\n",
    "student = ['Smit', 'Jaya', 'Rayyan']\n",
    "capital = ['CSE', 'Networking', 'Operating System']\n",
    "\n",
    "dic = dict(zip(student, capital))\n",
    "print (dic)"
   ]
  },
  {
   "cell_type": "code",
   "execution_count": 11,
   "metadata": {},
   "outputs": [],
   "source": [
    "#5\n",
    "#Completed"
   ]
  },
  {
   "cell_type": "code",
   "execution_count": 15,
   "metadata": {},
   "outputs": [
    {
     "name": "stdout",
     "output_type": "stream",
     "text": [
      "g\n",
      "n\n",
      "i\n",
      "n\n",
      "i\n",
      "a\n",
      "r\n",
      "T\n",
      " \n",
      "d\n",
      "d\n",
      "a\n",
      "t\n",
      "l\n",
      "u\n",
      "s\n",
      "n\n",
      "o\n",
      "C\n"
     ]
    }
   ],
   "source": [
    "#6\n",
    "def gen(string):\n",
    "    for i in reversed(range(len(string))):\n",
    "        yield string[i]\n",
    "\n",
    "for char in gen(\"Consultadd Training\"):\n",
    "    print (char)"
   ]
  },
  {
   "cell_type": "code",
   "execution_count": 2,
   "metadata": {},
   "outputs": [
    {
     "name": "stdout",
     "output_type": "stream",
     "text": [
      "Sum of the list:  499999500000\n",
      "Total time taken to execute:  0.0359039306640625\n"
     ]
    }
   ],
   "source": [
    "#7\n",
    "import time\n",
    "\n",
    "def calc_time(func):\n",
    "    def inner(*args, **kwargs):\n",
    "        #time before execution\n",
    "        begin = time.time()\n",
    "        \n",
    "        func(*args, **kwargs)\n",
    "        \n",
    "        end = time.time()\n",
    "        print(\"Total time taken to execute: \", end - begin)\n",
    "    return inner\n",
    "\n",
    "@calc_time\n",
    "def add(lst):\n",
    "    sum = 0\n",
    "    for i in lst:\n",
    "        sum += i\n",
    "    print (\"Sum of the list: \", sum)\n",
    "\n",
    "add([i for i in range(1000000)])"
   ]
  },
  {
   "cell_type": "markdown",
   "metadata": {},
   "source": [
    "8.\n",
    "FrontEnd Tech:\n",
    "HTML - Reddit, Lyft\n",
    "JavaScript - Google, Paypal, Netflix\n",
    "React - Facebook, Instagram, Twitter\n",
    "Angular - Apple, AT&T\n",
    "CSS - Apple, Microsoft"
   ]
  }
 ],
 "metadata": {
  "kernelspec": {
   "display_name": "Python 3",
   "language": "python",
   "name": "python3"
  },
  "language_info": {
   "codemirror_mode": {
    "name": "ipython",
    "version": 3
   },
   "file_extension": ".py",
   "mimetype": "text/x-python",
   "name": "python",
   "nbconvert_exporter": "python",
   "pygments_lexer": "ipython3",
   "version": "3.7.4"
  }
 },
 "nbformat": 4,
 "nbformat_minor": 2
}
